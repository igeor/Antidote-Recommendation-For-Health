{
 "cells": [
  {
   "cell_type": "code",
   "execution_count": null,
   "metadata": {},
   "outputs": [],
   "source": [
    "import numpy as np "
   ]
  },
  {
   "cell_type": "code",
   "execution_count": null,
   "metadata": {},
   "outputs": [],
   "source": [
    "from AntidoteRecs.gfc import get_claims, load_data\n",
    "\n",
    "# # Uncommend the block below to run the code and retrieve the claims from Google Fact Check API\n",
    "# CREDENTIALS = {'API_KEY': '<your_api_key>','VERSION': '<your_version>'}\n",
    "# claims = get_claims(CREDENTIALS, keywords=['covid-19 vaccines alter human dna'])\n",
    "\n",
    "corpus = load_data(file_path='./data/gold-claims-collection.csv')\n",
    "corpus.head()"
   ]
  },
  {
   "cell_type": "code",
   "execution_count": null,
   "metadata": {},
   "outputs": [],
   "source": [
    "# Initialize the vectorizer\n",
    "from AntidoteRecs.vectorizers import BertVectorizer\n",
    "\n",
    "# COVID-Twitter-BERT model\n",
    "model_name = 'digitalepidemiologylab/covid-twitter-bert-v2'\n",
    "vectorizer = BertVectorizer(model_name=model_name)\n",
    "\n",
    "fake_claim = 'COVID-19 vaccines alter human DNA'\n",
    "fake_claim_embedding = vectorizer.transform(fake_claim)"
   ]
  },
  {
   "cell_type": "code",
   "execution_count": null,
   "metadata": {},
   "outputs": [],
   "source": [
    "# (Optional) Load embeddings from numpy array\n",
    "embeddings = np.load(f'./data/gold-claims-collection-embeddingstwitbert.npy', allow_pickle=True)\n",
    "corpus['embedding'] = [claim_embedding for claim_embedding in embeddings]"
   ]
  },
  {
   "cell_type": "code",
   "execution_count": null,
   "metadata": {},
   "outputs": [],
   "source": [
    "# Antidote Recommendation Tool: Vector-based Approach\n",
    "from AntidoteRecs.antidote import get_antidotes\n",
    "\n",
    "antidotes = get_antidotes(fake_claim, corpus, vectorizer, topK=10)\n",
    "antidotes"
   ]
  },
  {
   "cell_type": "code",
   "execution_count": null,
   "metadata": {},
   "outputs": [],
   "source": [
    "from AntidoteRecs.claim_topic import extract_topics\n",
    "\n",
    "kmeans = extract_topics(corpus, n_topics=100, vectorizer=vectorizer)"
   ]
  },
  {
   "cell_type": "code",
   "execution_count": null,
   "metadata": {},
   "outputs": [],
   "source": [
    "# Antidote Recommendation Tool: Topic Modeling Approach\n",
    "from AntidoteRecs.antidote import get_antidotes\n",
    "\n",
    "# Get the topic of the fake claim\n",
    "fake_claim_topic = kmeans.predict([fake_claim_embedding])[0]\n",
    "\n",
    "antidotes = get_antidotes(fake_claim, corpus, vectorizer, topK=10, topic=fake_claim_topic)\n",
    "antidotes"
   ]
  },
  {
   "cell_type": "code",
   "execution_count": null,
   "metadata": {},
   "outputs": [],
   "source": [
    "# Pre-emptive Recommendation Tool \n",
    "from AntidoteRecs.graphs import extract_graph, user_to_topic_graph\n",
    "# Construct the User-to-Item Graph\n",
    "G = extract_graph('/home/igeor/Antidote-Recommendation-Tool/subreddits/CoronavirusUK/')\n",
    "# Construct the User-to-Topic Graph\n",
    "G_U2T = user_to_topic_graph(G, corpus, kmeans, vectorizer)"
   ]
  },
  {
   "cell_type": "code",
   "execution_count": null,
   "metadata": {},
   "outputs": [],
   "source": [
    "import numpy as np\n",
    "from AntidoteRecs.preemptive import predict_next_topic\n",
    "\n",
    "# Select the user id\n",
    "author_id = 10\n",
    "# Predict the next topic\n",
    "next_topic = predict_next_topic(G_U2T, author_id, method='SVD', topK=10)\n",
    "\n",
    "# Select the claims that belong to that topic\n",
    "antidotes = corpus[corpus['topic'] == next_topic]\n",
    "antidotes['review']"
   ]
  }
 ],
 "metadata": {
  "kernelspec": {
   "display_name": "Python 3",
   "language": "python",
   "name": "python3"
  },
  "language_info": {
   "codemirror_mode": {
    "name": "ipython",
    "version": 3
   },
   "file_extension": ".py",
   "mimetype": "text/x-python",
   "name": "python",
   "nbconvert_exporter": "python",
   "pygments_lexer": "ipython3",
   "version": "3.10.6"
  },
  "orig_nbformat": 4
 },
 "nbformat": 4,
 "nbformat_minor": 2
}
